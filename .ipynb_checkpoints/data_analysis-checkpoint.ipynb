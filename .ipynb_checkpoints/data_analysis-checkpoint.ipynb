{
 "cells": [
  {
   "cell_type": "markdown",
   "id": "656f2d38",
   "metadata": {
    "slideshow": {
     "slide_type": "slide"
    }
   },
   "source": [
    "<h1><center> Analyzing the effect of ovarian hormones on women's body odor attractiveness using Bayesian hierarchical model </center></h1> \n",
    "\n",
    "<h3><center> Paul Kovacs </center></h3>\n",
    "<h3><center> Mei Mei </center></h3>\n",
    "<h3><center> Nicholas Pfau </center></h3>"
   ]
  },
  {
   "cell_type": "markdown",
   "id": "792b1f95",
   "metadata": {
    "slideshow": {
     "slide_type": "slide"
    }
   },
   "source": [
    "1. Ovarian hormones (Estrogen and Progesterone)\n",
    "<br><br>\n",
    "2. Ovulation status (yes or no)\n",
    "<br><br>\n",
    "3. Odor attractiveness (judged by men)\n",
    "\n",
    "---\n",
    "\n",
    "- [x] 1 & 2: Well-studied in Biology and Medicine\n",
    "<br><br>\n",
    "- [x] 2 & 3: Tones of literatures on different mammals, including human\n",
    "<br><br>\n",
    "- [ ] 1 & 3: Evidence for voles and macaques -- what about human?"
   ]
  },
  {
   "cell_type": "markdown",
   "id": "40370f66",
   "metadata": {
    "slideshow": {
     "slide_type": "slide"
    }
   },
   "source": [
    "### Estradiol and Progesterone in a cycle\n",
    "\n",
    "<img src=\"EP_cycle.png\" width=\"800\">"
   ]
  },
  {
   "cell_type": "markdown",
   "id": "b5ab10b7",
   "metadata": {
    "slideshow": {
     "slide_type": "slide"
    }
   },
   "source": [
    "### What information (if any) is contained in women’s body odor?\n",
    "\n",
    "1. First possibility: E + P -, same as most mammal.\n",
    "    - A signal of ovulation. \n",
    "        - “Is she ovulating right now?” \n",
    "        - “If I have sex with her right now, is there’s a possibility that she will conceive?”\n",
    "2. Second possibility: E + P null\n",
    "    - Signals general reproductive condition.\n",
    "        - “Is she pass puberty, pre menopause and of good health?”\n",
    "        - ”Will she have ovulatory cycles in the near future during which she will be able to conceive?”"
   ]
  },
  {
   "cell_type": "code",
   "execution_count": 1,
   "id": "852e484c",
   "metadata": {
    "slideshow": {
     "slide_type": "skip"
    },
    "tags": []
   },
   "outputs": [],
   "source": [
    "#imports\n",
    "\n",
    "import os\n",
    "import sys\n",
    "\n",
    "import pandas as pd\n",
    "import numpy as np\n",
    "import seaborn as sns\n",
    "import matplotlib.pyplot as plt\n",
    "from scipy import optimize\n",
    "import patsy as pt\n",
    "#import statsmodels.api as sm\n",
    "import pymc3 as pm\n",
    "import theano as thno\n",
    "import theano.tensor as T \n",
    "import stan\n",
    "from collections import OrderedDict\n",
    "from time import time\n",
    "from sklearn.preprocessing import LabelEncoder\n",
    "\n",
    "import warnings\n",
    "warnings.filterwarnings('ignore')\n",
    "\n",
    "import arviz as az\n",
    "\n",
    "import nest_asyncio\n",
    "nest_asyncio.apply()\n",
    "import stan as ps"
   ]
  },
  {
   "cell_type": "code",
   "execution_count": 5,
   "id": "ffb1f377",
   "metadata": {
    "slideshow": {
     "slide_type": "skip"
    }
   },
   "outputs": [
    {
     "name": "stdout",
     "output_type": "stream",
     "text": [
      "Python: 3.9.2 (default, Mar 26 2021, 22:33:29) \n",
      "[Clang 11.0.0 (clang-1100.0.33.17)]\n",
      "Recursion limit 10000\n",
      "theano: 1.1.2\n",
      "PyMC3: 3.11.2\n",
      "pystan: 3.2.0\n"
     ]
    }
   ],
   "source": [
    "print('Python: {}'.format(sys.version))\n",
    "print('Recursion limit {}'.format(sys.getrecursionlimit()))\n",
    "print('theano: {}'.format(thno.__version__))\n",
    "print('PyMC3: {}'.format(pm.__version__))\n",
    "print('pystan: {}'.format(stan.__version__))\n"
   ]
  },
  {
   "cell_type": "markdown",
   "id": "c98c6da6",
   "metadata": {
    "slideshow": {
     "slide_type": "slide"
    }
   },
   "source": [
    "### Current dataset\n",
    "\n",
    "1. Odor collection\n",
    "\n",
    "    + Naturally cycling women (N = 47, Age 18-25) were asked to wear underarm pads overnight every five days over the course of 30 days (a total of 6 samples per woman)    \n",
    "    + Saliva samples on odor collection days \n",
    "        - Assayed for estradiol and progesterone\n",
    "    + Daily luteinizing hormone (LH) tests\n",
    "        - Positive LH indicate ovulation within 24 hrs"
   ]
  },
  {
   "cell_type": "code",
   "execution_count": 2,
   "id": "ed5aca84",
   "metadata": {
    "slideshow": {
     "slide_type": "-"
    }
   },
   "outputs": [
    {
     "data": {
      "text/plain": [
       "47"
      ]
     },
     "execution_count": 2,
     "metadata": {},
     "output_type": "execute_result"
    }
   ],
   "source": [
    "#Loading data\n",
    "odor = pd.read_csv('/Users/meimei/womendaily+rating.csv')\n",
    "\n",
    "len(odor[['raterid', 'SubId.0']].dropna()['SubId.0'].unique())"
   ]
  },
  {
   "cell_type": "markdown",
   "id": "94a00ba0",
   "metadata": {
    "slideshow": {
     "slide_type": "slide"
    }
   },
   "source": [
    "###### Current dataset\n",
    "\n",
    "2. Rating sessions\n",
    "\n",
    "    + Odor samples were rated across five rating sessions\n",
    "        - Samples of 9-10 donors (54-60 samples) in each session\n",
    "        - 10-17 raters in each session\n",
    "    + Male raters (N = 66) were asked to sniff individual samples from glass jars.\n",
    "        - Rate the odor for pleasantness, sexiness and intensity using 7-point Likert scales."
   ]
  },
  {
   "cell_type": "code",
   "execution_count": 3,
   "id": "3255dca3",
   "metadata": {
    "slideshow": {
     "slide_type": "-"
    }
   },
   "outputs": [
    {
     "data": {
      "text/plain": [
       "blockid\n",
       "1.0    10\n",
       "2.0    12\n",
       "3.0    14\n",
       "4.0    13\n",
       "5.0    17\n",
       "Name: raterid, dtype: int64"
      ]
     },
     "execution_count": 3,
     "metadata": {},
     "output_type": "execute_result"
    }
   ],
   "source": [
    "odor[['blockid','raterid']].drop_duplicates().dropna().groupby('blockid')['raterid'].count()"
   ]
  },
  {
   "cell_type": "markdown",
   "id": "d5543d1e",
   "metadata": {
    "slideshow": {
     "slide_type": "slide"
    }
   },
   "source": [
    "### Centering and resacling variables\n",
    "\n",
    "- Because each rater use the rating scale differntly, we recentered pleasentness, sexiness and intensity on each rater's own mean rating given"
   ]
  },
  {
   "cell_type": "code",
   "execution_count": 78,
   "id": "7b4f322e",
   "metadata": {
    "slideshow": {
     "slide_type": "-"
    }
   },
   "outputs": [],
   "source": [
    "odor1 = odor[odor['water'].isna()].dropna(subset=['raterid'])\n",
    "odor2 = odor1[[\"SubId.0\", \"raterid\", \"Salivanumb\", \"Estradiol.ext\", \"Progest\", \n",
    "               \"Pleasant\",\"Intensity\",\"Sexiness\", \"blockid\"]]\n",
    "\n",
    "#calculate rater centered ratings\n",
    "means = odor2.groupby('raterid')['Pleasant','Sexiness','Intensity', 'raterid'].mean()\n",
    "means.columns = ['Pleasant_mean','Sexiness_mean','Intensity_mean', 'raterid']\n",
    "\n",
    "odor3 = odor2.set_index('raterid').join(means.set_index('raterid')).reset_index()\n",
    "odor3[\"Pleasant_ratcen\"] = odor3[\"Pleasant\"]-odor3[\"Pleasant_mean\"]\n",
    "odor3[\"Intensity_ratcen\"] = odor3[\"Intensity\"]-odor3[\"Intensity_mean\"]\n",
    "odor3[\"Sexiness_ratcen\"] = odor3[\"Sexiness\"]-odor3[\"Sexiness_mean\"]\n"
   ]
  },
  {
   "cell_type": "markdown",
   "id": "3d03b5ae",
   "metadata": {
    "slideshow": {
     "slide_type": "slide"
    }
   },
   "source": [
    "### Centering and resacling variables\n",
    "\n",
    "- Donor's hormone concentration is also centered on their own mean hormone levels and scaled with the standerd deviation of all donors"
   ]
  },
  {
   "cell_type": "code",
   "execution_count": 79,
   "id": "29001cab",
   "metadata": {
    "slideshow": {
     "slide_type": "-"
    }
   },
   "outputs": [],
   "source": [
    "#calculate donor centered hormones with SD of the all donors\n",
    "means2 = odor2.groupby('SubId.0')['Estradiol.ext', 'Progest','SubId.0'].mean()\n",
    "means2.columns = ['E_submean', 'P_submean','SubId.0']\n",
    "\n",
    "odor4 = odor3.set_index('SubId.0').join(means2.set_index('SubId.0')).reset_index()\n",
    "odor4['subcenzestrad'] = (odor4['Estradiol.ext']-odor4['E_submean'])/odor4['Estradiol.ext'].std()\n",
    "odor4['subcenzprogest'] = (odor4['Progest']-odor4['P_submean'])/odor4['Progest'].std()\n",
    "odor4['sexyplea_ratcen'] = (odor4[\"Pleasant_ratcen\"] + odor4[\"Sexiness_ratcen\"])/2"
   ]
  },
  {
   "cell_type": "markdown",
   "id": "3fa56e79",
   "metadata": {
    "slideshow": {
     "slide_type": "slide"
    }
   },
   "source": [
    "### Centering and resacling variables\n",
    "\n",
    "- We combined pleasantness and sexiness to create an attractiveness composite, as they’re highly correlated"
   ]
  },
  {
   "cell_type": "code",
   "execution_count": 7,
   "id": "4083ed78",
   "metadata": {
    "slideshow": {
     "slide_type": "-"
    }
   },
   "outputs": [
    {
     "data": {
      "image/png": "[encoded data removed]",
      "text/plain": [
       "<Figure size 432x288 with 1 Axes>"
      ]
     },
     "metadata": {
      "needs_background": "light"
     },
     "output_type": "display_data"
    }
   ],
   "source": [
    "plt.scatter(odordf['Pleasant_ratcen'], odordf['Sexiness_ratcen'])\n",
    "plt.show()"
   ]
  },
  {
   "cell_type": "code",
   "execution_count": 8,
   "id": "5fca3a29",
   "metadata": {
    "slideshow": {
     "slide_type": "-"
    }
   },
   "outputs": [
    {
     "data": {
      "text/html": [
       "<div>\n",
       "<style scoped>\n",
       "    .dataframe tbody tr th:only-of-type {\n",
       "        vertical-align: middle;\n",
       "    }\n",
       "\n",
       "    .dataframe tbody tr th {\n",
       "        vertical-align: top;\n",
       "    }\n",
       "\n",
       "    .dataframe thead th {\n",
       "        text-align: right;\n",
       "    }\n",
       "</style>\n",
       "<table border=\"1\" class=\"dataframe\">\n",
       "  <thead>\n",
       "    <tr style=\"text-align: right;\">\n",
       "      <th></th>\n",
       "      <th>Pleasant_ratcen</th>\n",
       "      <th>Sexiness_ratcen</th>\n",
       "    </tr>\n",
       "  </thead>\n",
       "  <tbody>\n",
       "    <tr>\n",
       "      <th>Pleasant_ratcen</th>\n",
       "      <td>1.000000</td>\n",
       "      <td>0.730468</td>\n",
       "    </tr>\n",
       "    <tr>\n",
       "      <th>Sexiness_ratcen</th>\n",
       "      <td>0.730468</td>\n",
       "      <td>1.000000</td>\n",
       "    </tr>\n",
       "  </tbody>\n",
       "</table>\n",
       "</div>"
      ],
      "text/plain": [
       "                 Pleasant_ratcen  Sexiness_ratcen\n",
       "Pleasant_ratcen         1.000000         0.730468\n",
       "Sexiness_ratcen         0.730468         1.000000"
      ]
     },
     "execution_count": 8,
     "metadata": {},
     "output_type": "execute_result"
    }
   ],
   "source": [
    "datsp = odor[['Pleasant_ratcen','Sexiness_ratcen']]\n",
    "datsp.corr()"
   ]
  },
  {
   "cell_type": "markdown",
   "id": "057edafc",
   "metadata": {
    "slideshow": {
     "slide_type": "slide"
    }
   },
   "source": [
    "### How much do raters agree with eachother?\n",
    "\n",
    "- In order to see if the rater agree with eachother on the samples' rating, we conducted intraclass correlation on the raters from all five rating sessions.\n",
    "- ICC of raters from rating session 2:"
   ]
  },
  {
   "cell_type": "code",
   "execution_count": 88,
   "id": "d620125c",
   "metadata": {
    "slideshow": {
     "slide_type": "skip"
    }
   },
   "outputs": [],
   "source": [
    "#ICC for male raters\n",
    "import pingouin as pg\n",
    "odoricc = odor4[[\"SubId.0\", \"raterid\", \"Salivanumb\",\"sexyplea_ratcen\", \"blockid\"]]\n",
    "odoricc[\"Salivanumb\"] = odoricc[\"Salivanumb\"].astype(int).astype(str)\n",
    "odoricc[\"SubId.0\"] = odoricc[\"SubId.0\"].astype(str)\n",
    "odoricc[\"targetid\"] = odoricc[\"SubId.0\"] +\"_\"+ odoricc[\"Salivanumb\"]\n",
    "\n",
    "iccdat1 = odoricc[(odoricc['blockid'] == 1)][[\"raterid\", \"targetid\",\"sexyplea_ratcen\"]]\n",
    "iccdat2 = odoricc[(odoricc['blockid'] == 2)][[\"raterid\", \"targetid\",\"sexyplea_ratcen\"]]\n",
    "iccdat3 = odoricc[(odoricc['blockid'] == 3)][[\"raterid\", \"targetid\",\"sexyplea_ratcen\"]]\n",
    "iccdat4 = odoricc[(odoricc['blockid'] == 4)][[\"raterid\", \"targetid\",\"sexyplea_ratcen\"]]\n",
    "iccdat4 = iccdat4[(iccdat4['targetid'] != '140_2') & (iccdat4['targetid'] !=  '140_3')]\n",
    "iccdat5 = odoricc[(odoricc['blockid'] == 5)][[\"raterid\", \"targetid\",\"sexyplea_ratcen\"]]\n",
    "iccdat5 = iccdat5[(iccdat5['targetid'] != '147_2')]\n",
    "\n",
    "icc1 = pg.intraclass_corr(data=iccdat1, targets='targetid', raters='raterid', ratings='sexyplea_ratcen')\n",
    "icc2 = pg.intraclass_corr(data=iccdat2, targets='targetid', raters='raterid', ratings='sexyplea_ratcen')\n",
    "icc3 = pg.intraclass_corr(data=iccdat3, targets='targetid', raters='raterid', ratings='sexyplea_ratcen')\n",
    "icc4 = pg.intraclass_corr(data=iccdat4, targets='targetid', raters='raterid', ratings='sexyplea_ratcen')\n",
    "icc5 = pg.intraclass_corr(data=iccdat5, targets='targetid', raters='raterid', ratings='sexyplea_ratcen')"
   ]
  },
  {
   "cell_type": "code",
   "execution_count": 89,
   "id": "da27f955",
   "metadata": {
    "slideshow": {
     "slide_type": "skip"
    }
   },
   "outputs": [
    {
     "data": {
      "text/html": [
       "<div>\n",
       "<style scoped>\n",
       "    .dataframe tbody tr th:only-of-type {\n",
       "        vertical-align: middle;\n",
       "    }\n",
       "\n",
       "    .dataframe tbody tr th {\n",
       "        vertical-align: top;\n",
       "    }\n",
       "\n",
       "    .dataframe thead th {\n",
       "        text-align: right;\n",
       "    }\n",
       "</style>\n",
       "<table border=\"1\" class=\"dataframe\">\n",
       "  <thead>\n",
       "    <tr style=\"text-align: right;\">\n",
       "      <th></th>\n",
       "      <th>Description</th>\n",
       "      <th>ICC</th>\n",
       "      <th>F</th>\n",
       "      <th>df1</th>\n",
       "      <th>df2</th>\n",
       "      <th>pval</th>\n",
       "      <th>CI95%</th>\n",
       "    </tr>\n",
       "    <tr>\n",
       "      <th>Type</th>\n",
       "      <th></th>\n",
       "      <th></th>\n",
       "      <th></th>\n",
       "      <th></th>\n",
       "      <th></th>\n",
       "      <th></th>\n",
       "      <th></th>\n",
       "    </tr>\n",
       "  </thead>\n",
       "  <tbody>\n",
       "    <tr>\n",
       "      <th>ICC1</th>\n",
       "      <td>Single raters absolute</td>\n",
       "      <td>0.145563</td>\n",
       "      <td>2.703612</td>\n",
       "      <td>51</td>\n",
       "      <td>468</td>\n",
       "      <td>2.035248e-08</td>\n",
       "      <td>[0.08, 0.24]</td>\n",
       "    </tr>\n",
       "    <tr>\n",
       "      <th>ICC2</th>\n",
       "      <td>Single random raters</td>\n",
       "      <td>0.144129</td>\n",
       "      <td>2.651619</td>\n",
       "      <td>51</td>\n",
       "      <td>459</td>\n",
       "      <td>4.184127e-08</td>\n",
       "      <td>[0.08, 0.24]</td>\n",
       "    </tr>\n",
       "    <tr>\n",
       "      <th>ICC3</th>\n",
       "      <td>Single fixed raters</td>\n",
       "      <td>0.141750</td>\n",
       "      <td>2.651619</td>\n",
       "      <td>51</td>\n",
       "      <td>459</td>\n",
       "      <td>4.184127e-08</td>\n",
       "      <td>[0.08, 0.24]</td>\n",
       "    </tr>\n",
       "    <tr>\n",
       "      <th>ICC1k</th>\n",
       "      <td>Average raters absolute</td>\n",
       "      <td>0.630124</td>\n",
       "      <td>2.703612</td>\n",
       "      <td>51</td>\n",
       "      <td>468</td>\n",
       "      <td>2.035248e-08</td>\n",
       "      <td>[0.46, 0.76]</td>\n",
       "    </tr>\n",
       "    <tr>\n",
       "      <th>ICC2k</th>\n",
       "      <td>Average random raters</td>\n",
       "      <td>0.627422</td>\n",
       "      <td>2.651619</td>\n",
       "      <td>51</td>\n",
       "      <td>459</td>\n",
       "      <td>4.184127e-08</td>\n",
       "      <td>[0.45, 0.76]</td>\n",
       "    </tr>\n",
       "    <tr>\n",
       "      <th>ICC3k</th>\n",
       "      <td>Average fixed raters</td>\n",
       "      <td>0.622872</td>\n",
       "      <td>2.651619</td>\n",
       "      <td>51</td>\n",
       "      <td>459</td>\n",
       "      <td>4.184127e-08</td>\n",
       "      <td>[0.45, 0.76]</td>\n",
       "    </tr>\n",
       "  </tbody>\n",
       "</table>\n",
       "</div>"
      ],
      "text/plain": [
       "                   Description       ICC         F  df1  df2          pval  \\\n",
       "Type                                                                         \n",
       "ICC1    Single raters absolute  0.145563  2.703612   51  468  2.035248e-08   \n",
       "ICC2      Single random raters  0.144129  2.651619   51  459  4.184127e-08   \n",
       "ICC3       Single fixed raters  0.141750  2.651619   51  459  4.184127e-08   \n",
       "ICC1k  Average raters absolute  0.630124  2.703612   51  468  2.035248e-08   \n",
       "ICC2k    Average random raters  0.627422  2.651619   51  459  4.184127e-08   \n",
       "ICC3k     Average fixed raters  0.622872  2.651619   51  459  4.184127e-08   \n",
       "\n",
       "              CI95%  \n",
       "Type                 \n",
       "ICC1   [0.08, 0.24]  \n",
       "ICC2   [0.08, 0.24]  \n",
       "ICC3   [0.08, 0.24]  \n",
       "ICC1k  [0.46, 0.76]  \n",
       "ICC2k  [0.45, 0.76]  \n",
       "ICC3k  [0.45, 0.76]  "
      ]
     },
     "execution_count": 89,
     "metadata": {},
     "output_type": "execute_result"
    }
   ],
   "source": [
    "icc1.set_index('Type')"
   ]
  },
  {
   "cell_type": "code",
   "execution_count": 90,
   "id": "0225248a",
   "metadata": {
    "slideshow": {
     "slide_type": "-"
    }
   },
   "outputs": [
    {
     "data": {
      "text/html": [
       "<div>\n",
       "<style scoped>\n",
       "    .dataframe tbody tr th:only-of-type {\n",
       "        vertical-align: middle;\n",
       "    }\n",
       "\n",
       "    .dataframe tbody tr th {\n",
       "        vertical-align: top;\n",
       "    }\n",
       "\n",
       "    .dataframe thead th {\n",
       "        text-align: right;\n",
       "    }\n",
       "</style>\n",
       "<table border=\"1\" class=\"dataframe\">\n",
       "  <thead>\n",
       "    <tr style=\"text-align: right;\">\n",
       "      <th></th>\n",
       "      <th>Description</th>\n",
       "      <th>ICC</th>\n",
       "      <th>F</th>\n",
       "      <th>df1</th>\n",
       "      <th>df2</th>\n",
       "      <th>pval</th>\n",
       "      <th>CI95%</th>\n",
       "    </tr>\n",
       "    <tr>\n",
       "      <th>Type</th>\n",
       "      <th></th>\n",
       "      <th></th>\n",
       "      <th></th>\n",
       "      <th></th>\n",
       "      <th></th>\n",
       "      <th></th>\n",
       "      <th></th>\n",
       "    </tr>\n",
       "  </thead>\n",
       "  <tbody>\n",
       "    <tr>\n",
       "      <th>ICC1</th>\n",
       "      <td>Single raters absolute</td>\n",
       "      <td>0.231514</td>\n",
       "      <td>4.615115</td>\n",
       "      <td>51</td>\n",
       "      <td>572</td>\n",
       "      <td>2.134422e-20</td>\n",
       "      <td>[0.15, 0.34]</td>\n",
       "    </tr>\n",
       "    <tr>\n",
       "      <th>ICC2</th>\n",
       "      <td>Single random raters</td>\n",
       "      <td>0.230548</td>\n",
       "      <td>4.526363</td>\n",
       "      <td>51</td>\n",
       "      <td>561</td>\n",
       "      <td>9.054014e-20</td>\n",
       "      <td>[0.15, 0.34]</td>\n",
       "    </tr>\n",
       "    <tr>\n",
       "      <th>ICC3</th>\n",
       "      <td>Single fixed raters</td>\n",
       "      <td>0.227121</td>\n",
       "      <td>4.526363</td>\n",
       "      <td>51</td>\n",
       "      <td>561</td>\n",
       "      <td>9.054014e-20</td>\n",
       "      <td>[0.15, 0.34]</td>\n",
       "    </tr>\n",
       "    <tr>\n",
       "      <th>ICC1k</th>\n",
       "      <td>Average raters absolute</td>\n",
       "      <td>0.783321</td>\n",
       "      <td>4.615115</td>\n",
       "      <td>51</td>\n",
       "      <td>572</td>\n",
       "      <td>2.134422e-20</td>\n",
       "      <td>[0.69, 0.86]</td>\n",
       "    </tr>\n",
       "    <tr>\n",
       "      <th>ICC2k</th>\n",
       "      <td>Average random raters</td>\n",
       "      <td>0.782396</td>\n",
       "      <td>4.526363</td>\n",
       "      <td>51</td>\n",
       "      <td>561</td>\n",
       "      <td>9.054014e-20</td>\n",
       "      <td>[0.68, 0.86]</td>\n",
       "    </tr>\n",
       "    <tr>\n",
       "      <th>ICC3k</th>\n",
       "      <td>Average fixed raters</td>\n",
       "      <td>0.779072</td>\n",
       "      <td>4.526363</td>\n",
       "      <td>51</td>\n",
       "      <td>561</td>\n",
       "      <td>9.054014e-20</td>\n",
       "      <td>[0.68, 0.86]</td>\n",
       "    </tr>\n",
       "  </tbody>\n",
       "</table>\n",
       "</div>"
      ],
      "text/plain": [
       "                   Description       ICC         F  df1  df2          pval  \\\n",
       "Type                                                                         \n",
       "ICC1    Single raters absolute  0.231514  4.615115   51  572  2.134422e-20   \n",
       "ICC2      Single random raters  0.230548  4.526363   51  561  9.054014e-20   \n",
       "ICC3       Single fixed raters  0.227121  4.526363   51  561  9.054014e-20   \n",
       "ICC1k  Average raters absolute  0.783321  4.615115   51  572  2.134422e-20   \n",
       "ICC2k    Average random raters  0.782396  4.526363   51  561  9.054014e-20   \n",
       "ICC3k     Average fixed raters  0.779072  4.526363   51  561  9.054014e-20   \n",
       "\n",
       "              CI95%  \n",
       "Type                 \n",
       "ICC1   [0.15, 0.34]  \n",
       "ICC2   [0.15, 0.34]  \n",
       "ICC3   [0.15, 0.34]  \n",
       "ICC1k  [0.69, 0.86]  \n",
       "ICC2k  [0.68, 0.86]  \n",
       "ICC3k  [0.68, 0.86]  "
      ]
     },
     "execution_count": 90,
     "metadata": {},
     "output_type": "execute_result"
    }
   ],
   "source": [
    "icc2.set_index('Type')"
   ]
  },
  {
   "cell_type": "code",
   "execution_count": 91,
   "id": "f467c645",
   "metadata": {
    "slideshow": {
     "slide_type": "skip"
    }
   },
   "outputs": [
    {
     "data": {
      "text/html": [
       "<div>\n",
       "<style scoped>\n",
       "    .dataframe tbody tr th:only-of-type {\n",
       "        vertical-align: middle;\n",
       "    }\n",
       "\n",
       "    .dataframe tbody tr th {\n",
       "        vertical-align: top;\n",
       "    }\n",
       "\n",
       "    .dataframe thead th {\n",
       "        text-align: right;\n",
       "    }\n",
       "</style>\n",
       "<table border=\"1\" class=\"dataframe\">\n",
       "  <thead>\n",
       "    <tr style=\"text-align: right;\">\n",
       "      <th></th>\n",
       "      <th>Description</th>\n",
       "      <th>ICC</th>\n",
       "      <th>F</th>\n",
       "      <th>df1</th>\n",
       "      <th>df2</th>\n",
       "      <th>pval</th>\n",
       "      <th>CI95%</th>\n",
       "    </tr>\n",
       "    <tr>\n",
       "      <th>Type</th>\n",
       "      <th></th>\n",
       "      <th></th>\n",
       "      <th></th>\n",
       "      <th></th>\n",
       "      <th></th>\n",
       "      <th></th>\n",
       "      <th></th>\n",
       "    </tr>\n",
       "  </thead>\n",
       "  <tbody>\n",
       "    <tr>\n",
       "      <th>ICC1</th>\n",
       "      <td>Single raters absolute</td>\n",
       "      <td>0.151601</td>\n",
       "      <td>3.501664</td>\n",
       "      <td>56</td>\n",
       "      <td>741</td>\n",
       "      <td>5.893473e-15</td>\n",
       "      <td>[0.09, 0.24]</td>\n",
       "    </tr>\n",
       "    <tr>\n",
       "      <th>ICC2</th>\n",
       "      <td>Single random raters</td>\n",
       "      <td>0.150682</td>\n",
       "      <td>3.440232</td>\n",
       "      <td>56</td>\n",
       "      <td>728</td>\n",
       "      <td>1.721692e-14</td>\n",
       "      <td>[0.09, 0.24]</td>\n",
       "    </tr>\n",
       "    <tr>\n",
       "      <th>ICC3</th>\n",
       "      <td>Single fixed raters</td>\n",
       "      <td>0.148430</td>\n",
       "      <td>3.440232</td>\n",
       "      <td>56</td>\n",
       "      <td>728</td>\n",
       "      <td>1.721692e-14</td>\n",
       "      <td>[0.09, 0.23]</td>\n",
       "    </tr>\n",
       "    <tr>\n",
       "      <th>ICC1k</th>\n",
       "      <td>Average raters absolute</td>\n",
       "      <td>0.714422</td>\n",
       "      <td>3.501664</td>\n",
       "      <td>56</td>\n",
       "      <td>741</td>\n",
       "      <td>5.893473e-15</td>\n",
       "      <td>[0.59, 0.81]</td>\n",
       "    </tr>\n",
       "    <tr>\n",
       "      <th>ICC2k</th>\n",
       "      <td>Average random raters</td>\n",
       "      <td>0.712958</td>\n",
       "      <td>3.440232</td>\n",
       "      <td>56</td>\n",
       "      <td>728</td>\n",
       "      <td>1.721692e-14</td>\n",
       "      <td>[0.59, 0.81]</td>\n",
       "    </tr>\n",
       "    <tr>\n",
       "      <th>ICC3k</th>\n",
       "      <td>Average fixed raters</td>\n",
       "      <td>0.709322</td>\n",
       "      <td>3.440232</td>\n",
       "      <td>56</td>\n",
       "      <td>728</td>\n",
       "      <td>1.721692e-14</td>\n",
       "      <td>[0.59, 0.81]</td>\n",
       "    </tr>\n",
       "  </tbody>\n",
       "</table>\n",
       "</div>"
      ],
      "text/plain": [
       "                   Description       ICC         F  df1  df2          pval  \\\n",
       "Type                                                                         \n",
       "ICC1    Single raters absolute  0.151601  3.501664   56  741  5.893473e-15   \n",
       "ICC2      Single random raters  0.150682  3.440232   56  728  1.721692e-14   \n",
       "ICC3       Single fixed raters  0.148430  3.440232   56  728  1.721692e-14   \n",
       "ICC1k  Average raters absolute  0.714422  3.501664   56  741  5.893473e-15   \n",
       "ICC2k    Average random raters  0.712958  3.440232   56  728  1.721692e-14   \n",
       "ICC3k     Average fixed raters  0.709322  3.440232   56  728  1.721692e-14   \n",
       "\n",
       "              CI95%  \n",
       "Type                 \n",
       "ICC1   [0.09, 0.24]  \n",
       "ICC2   [0.09, 0.24]  \n",
       "ICC3   [0.09, 0.23]  \n",
       "ICC1k  [0.59, 0.81]  \n",
       "ICC2k  [0.59, 0.81]  \n",
       "ICC3k  [0.59, 0.81]  "
      ]
     },
     "execution_count": 91,
     "metadata": {},
     "output_type": "execute_result"
    }
   ],
   "source": [
    "icc3.set_index('Type')"
   ]
  },
  {
   "cell_type": "code",
   "execution_count": 92,
   "id": "ce1ebeba",
   "metadata": {
    "slideshow": {
     "slide_type": "skip"
    }
   },
   "outputs": [
    {
     "data": {
      "text/html": [
       "<div>\n",
       "<style scoped>\n",
       "    .dataframe tbody tr th:only-of-type {\n",
       "        vertical-align: middle;\n",
       "    }\n",
       "\n",
       "    .dataframe tbody tr th {\n",
       "        vertical-align: top;\n",
       "    }\n",
       "\n",
       "    .dataframe thead th {\n",
       "        text-align: right;\n",
       "    }\n",
       "</style>\n",
       "<table border=\"1\" class=\"dataframe\">\n",
       "  <thead>\n",
       "    <tr style=\"text-align: right;\">\n",
       "      <th></th>\n",
       "      <th>Description</th>\n",
       "      <th>ICC</th>\n",
       "      <th>F</th>\n",
       "      <th>df1</th>\n",
       "      <th>df2</th>\n",
       "      <th>pval</th>\n",
       "      <th>CI95%</th>\n",
       "    </tr>\n",
       "    <tr>\n",
       "      <th>Type</th>\n",
       "      <th></th>\n",
       "      <th></th>\n",
       "      <th></th>\n",
       "      <th></th>\n",
       "      <th></th>\n",
       "      <th></th>\n",
       "      <th></th>\n",
       "    </tr>\n",
       "  </thead>\n",
       "  <tbody>\n",
       "    <tr>\n",
       "      <th>ICC1</th>\n",
       "      <td>Single raters absolute</td>\n",
       "      <td>0.082530</td>\n",
       "      <td>2.169406</td>\n",
       "      <td>57</td>\n",
       "      <td>696</td>\n",
       "      <td>0.000004</td>\n",
       "      <td>[0.04, 0.15]</td>\n",
       "    </tr>\n",
       "    <tr>\n",
       "      <th>ICC2</th>\n",
       "      <td>Single random raters</td>\n",
       "      <td>0.081453</td>\n",
       "      <td>2.133945</td>\n",
       "      <td>57</td>\n",
       "      <td>684</td>\n",
       "      <td>0.000006</td>\n",
       "      <td>[0.04, 0.15]</td>\n",
       "    </tr>\n",
       "    <tr>\n",
       "      <th>ICC3</th>\n",
       "      <td>Single fixed raters</td>\n",
       "      <td>0.080228</td>\n",
       "      <td>2.133945</td>\n",
       "      <td>57</td>\n",
       "      <td>684</td>\n",
       "      <td>0.000006</td>\n",
       "      <td>[0.04, 0.15]</td>\n",
       "    </tr>\n",
       "    <tr>\n",
       "      <th>ICC1k</th>\n",
       "      <td>Average raters absolute</td>\n",
       "      <td>0.539044</td>\n",
       "      <td>2.169406</td>\n",
       "      <td>57</td>\n",
       "      <td>696</td>\n",
       "      <td>0.000004</td>\n",
       "      <td>[0.34, 0.7]</td>\n",
       "    </tr>\n",
       "    <tr>\n",
       "      <th>ICC2k</th>\n",
       "      <td>Average random raters</td>\n",
       "      <td>0.535486</td>\n",
       "      <td>2.133945</td>\n",
       "      <td>57</td>\n",
       "      <td>684</td>\n",
       "      <td>0.000006</td>\n",
       "      <td>[0.34, 0.69]</td>\n",
       "    </tr>\n",
       "    <tr>\n",
       "      <th>ICC3k</th>\n",
       "      <td>Average fixed raters</td>\n",
       "      <td>0.531384</td>\n",
       "      <td>2.133945</td>\n",
       "      <td>57</td>\n",
       "      <td>684</td>\n",
       "      <td>0.000006</td>\n",
       "      <td>[0.33, 0.69]</td>\n",
       "    </tr>\n",
       "  </tbody>\n",
       "</table>\n",
       "</div>"
      ],
      "text/plain": [
       "                   Description       ICC         F  df1  df2      pval  \\\n",
       "Type                                                                     \n",
       "ICC1    Single raters absolute  0.082530  2.169406   57  696  0.000004   \n",
       "ICC2      Single random raters  0.081453  2.133945   57  684  0.000006   \n",
       "ICC3       Single fixed raters  0.080228  2.133945   57  684  0.000006   \n",
       "ICC1k  Average raters absolute  0.539044  2.169406   57  696  0.000004   \n",
       "ICC2k    Average random raters  0.535486  2.133945   57  684  0.000006   \n",
       "ICC3k     Average fixed raters  0.531384  2.133945   57  684  0.000006   \n",
       "\n",
       "              CI95%  \n",
       "Type                 \n",
       "ICC1   [0.04, 0.15]  \n",
       "ICC2   [0.04, 0.15]  \n",
       "ICC3   [0.04, 0.15]  \n",
       "ICC1k   [0.34, 0.7]  \n",
       "ICC2k  [0.34, 0.69]  \n",
       "ICC3k  [0.33, 0.69]  "
      ]
     },
     "execution_count": 92,
     "metadata": {},
     "output_type": "execute_result"
    }
   ],
   "source": [
    "icc4.set_index('Type')"
   ]
  },
  {
   "cell_type": "code",
   "execution_count": 93,
   "id": "1edba2cf",
   "metadata": {
    "slideshow": {
     "slide_type": "skip"
    }
   },
   "outputs": [
    {
     "data": {
      "text/html": [
       "<div>\n",
       "<style scoped>\n",
       "    .dataframe tbody tr th:only-of-type {\n",
       "        vertical-align: middle;\n",
       "    }\n",
       "\n",
       "    .dataframe tbody tr th {\n",
       "        vertical-align: top;\n",
       "    }\n",
       "\n",
       "    .dataframe thead th {\n",
       "        text-align: right;\n",
       "    }\n",
       "</style>\n",
       "<table border=\"1\" class=\"dataframe\">\n",
       "  <thead>\n",
       "    <tr style=\"text-align: right;\">\n",
       "      <th></th>\n",
       "      <th>Description</th>\n",
       "      <th>ICC</th>\n",
       "      <th>F</th>\n",
       "      <th>df1</th>\n",
       "      <th>df2</th>\n",
       "      <th>pval</th>\n",
       "      <th>CI95%</th>\n",
       "    </tr>\n",
       "    <tr>\n",
       "      <th>Type</th>\n",
       "      <th></th>\n",
       "      <th></th>\n",
       "      <th></th>\n",
       "      <th></th>\n",
       "      <th></th>\n",
       "      <th></th>\n",
       "      <th></th>\n",
       "    </tr>\n",
       "  </thead>\n",
       "  <tbody>\n",
       "    <tr>\n",
       "      <th>ICC1</th>\n",
       "      <td>Single raters absolute</td>\n",
       "      <td>0.148979</td>\n",
       "      <td>3.976013</td>\n",
       "      <td>52</td>\n",
       "      <td>848</td>\n",
       "      <td>1.173604e-17</td>\n",
       "      <td>[0.09, 0.23]</td>\n",
       "    </tr>\n",
       "    <tr>\n",
       "      <th>ICC2</th>\n",
       "      <td>Single random raters</td>\n",
       "      <td>0.148177</td>\n",
       "      <td>3.902552</td>\n",
       "      <td>52</td>\n",
       "      <td>832</td>\n",
       "      <td>4.156686e-17</td>\n",
       "      <td>[0.09, 0.23]</td>\n",
       "    </tr>\n",
       "    <tr>\n",
       "      <th>ICC3</th>\n",
       "      <td>Single fixed raters</td>\n",
       "      <td>0.145838</td>\n",
       "      <td>3.902552</td>\n",
       "      <td>52</td>\n",
       "      <td>832</td>\n",
       "      <td>4.156686e-17</td>\n",
       "      <td>[0.09, 0.23]</td>\n",
       "    </tr>\n",
       "    <tr>\n",
       "      <th>ICC1k</th>\n",
       "      <td>Average raters absolute</td>\n",
       "      <td>0.748492</td>\n",
       "      <td>3.976013</td>\n",
       "      <td>52</td>\n",
       "      <td>848</td>\n",
       "      <td>1.173604e-17</td>\n",
       "      <td>[0.64, 0.84]</td>\n",
       "    </tr>\n",
       "    <tr>\n",
       "      <th>ICC2k</th>\n",
       "      <td>Average random raters</td>\n",
       "      <td>0.747295</td>\n",
       "      <td>3.902552</td>\n",
       "      <td>52</td>\n",
       "      <td>832</td>\n",
       "      <td>4.156686e-17</td>\n",
       "      <td>[0.64, 0.84]</td>\n",
       "    </tr>\n",
       "    <tr>\n",
       "      <th>ICC3k</th>\n",
       "      <td>Average fixed raters</td>\n",
       "      <td>0.743757</td>\n",
       "      <td>3.902552</td>\n",
       "      <td>52</td>\n",
       "      <td>832</td>\n",
       "      <td>4.156686e-17</td>\n",
       "      <td>[0.63, 0.83]</td>\n",
       "    </tr>\n",
       "  </tbody>\n",
       "</table>\n",
       "</div>"
      ],
      "text/plain": [
       "                   Description       ICC         F  df1  df2          pval  \\\n",
       "Type                                                                         \n",
       "ICC1    Single raters absolute  0.148979  3.976013   52  848  1.173604e-17   \n",
       "ICC2      Single random raters  0.148177  3.902552   52  832  4.156686e-17   \n",
       "ICC3       Single fixed raters  0.145838  3.902552   52  832  4.156686e-17   \n",
       "ICC1k  Average raters absolute  0.748492  3.976013   52  848  1.173604e-17   \n",
       "ICC2k    Average random raters  0.747295  3.902552   52  832  4.156686e-17   \n",
       "ICC3k     Average fixed raters  0.743757  3.902552   52  832  4.156686e-17   \n",
       "\n",
       "              CI95%  \n",
       "Type                 \n",
       "ICC1   [0.09, 0.23]  \n",
       "ICC2   [0.09, 0.23]  \n",
       "ICC3   [0.09, 0.23]  \n",
       "ICC1k  [0.64, 0.84]  \n",
       "ICC2k  [0.64, 0.84]  \n",
       "ICC3k  [0.63, 0.83]  "
      ]
     },
     "execution_count": 93,
     "metadata": {},
     "output_type": "execute_result"
    }
   ],
   "source": [
    "icc5.set_index('Type')"
   ]
  },
  {
   "cell_type": "markdown",
   "id": "1e04b5bf",
   "metadata": {
    "slideshow": {
     "slide_type": "slide"
    }
   },
   "source": [
    "### How much do raters agree with eachother?\n",
    "\n",
    "- Since ICCs of raters are pretty high, we decide to calculate an average of the raters rating of each sample and use that as our dependent variable. "
   ]
  },
  {
   "cell_type": "code",
   "execution_count": 80,
   "id": "bfde5478",
   "metadata": {
    "slideshow": {
     "slide_type": "-"
    }
   },
   "outputs": [],
   "source": [
    "odordf = odor4[[\"SubId.0\", \"raterid\", \"Salivanumb\", \"subcenzestrad\", \"subcenzprogest\", \n",
    "               \"Pleasant_ratcen\",\"Intensity_ratcen\",\"Sexiness_ratcen\",\"sexyplea_ratcen\"]]\n",
    "\n",
    "odormean = odordf.groupby(['SubId.0', 'Salivanumb']).mean().dropna(subset=['subcenzestrad','subcenzprogest'])\n",
    "odormean = odormean.reset_index()"
   ]
  },
  {
   "cell_type": "code",
   "execution_count": 162,
   "id": "19663896",
   "metadata": {
    "slideshow": {
     "slide_type": "skip"
    }
   },
   "outputs": [],
   "source": []
  },
  {
   "cell_type": "code",
   "execution_count": 17,
   "id": "82eba121",
   "metadata": {
    "slideshow": {
     "slide_type": "skip"
    }
   },
   "outputs": [],
   "source": []
  },
  {
   "cell_type": "code",
   "execution_count": null,
   "id": "137dde4e",
   "metadata": {
    "slideshow": {
     "slide_type": "skip"
    }
   },
   "outputs": [],
   "source": []
  },
  {
   "cell_type": "code",
   "execution_count": 15,
   "id": "833b9af1",
   "metadata": {
    "slideshow": {
     "slide_type": "slide"
    }
   },
   "outputs": [
    {
     "data": {
      "image/png": "[encoded data removed]",
      "text/plain": [
       "<Figure size 1440x720 with 4 Axes>"
      ]
     },
     "metadata": {
      "needs_background": "light"
     },
     "output_type": "display_data"
    },
    {
     "data": {
      "text/plain": [
       "<Figure size 1440x720 with 0 Axes>"
      ]
     },
     "metadata": {},
     "output_type": "display_data"
    }
   ],
   "source": [
    "fig, ((ax0, ax1), (ax2, ax3)) = plt.subplots(nrows=2, ncols=2, figsize=(20, 10))\n",
    "ax0.hist(x = odordf['Pleasant_ratcen'], bins='auto')\n",
    "ax0.set_title('Pleasantness')\n",
    "ax1.hist(x = odordf['Sexiness_ratcen'], bins='auto')\n",
    "ax1.set_title('Sexiness')\n",
    "ax2.hist(x = odordf['Intensity_ratcen'], bins='auto')\n",
    "ax2.set_title('Intensity')\n",
    "ax3.hist(x = odordf['sexyplea_ratcen'], bins='auto')\n",
    "ax3.set_title('Pleasant-sexy composite')\n",
    "plt.figure(figsize=(20,10))\n",
    "plt.show()"
   ]
  },
  {
   "cell_type": "code",
   "execution_count": null,
   "id": "881cdabd",
   "metadata": {
    "slideshow": {
     "slide_type": "skip"
    }
   },
   "outputs": [],
   "source": []
  },
  {
   "cell_type": "code",
   "execution_count": 11,
   "id": "b3bfd01a",
   "metadata": {
    "slideshow": {
     "slide_type": "skip"
    }
   },
   "outputs": [],
   "source": []
  },
  {
   "cell_type": "code",
   "execution_count": null,
   "id": "ee3c35ef",
   "metadata": {
    "slideshow": {
     "slide_type": "skip"
    }
   },
   "outputs": [],
   "source": []
  },
  {
   "cell_type": "code",
   "execution_count": null,
   "id": "49dd8d9d",
   "metadata": {},
   "outputs": [],
   "source": []
  },
  {
   "cell_type": "code",
   "execution_count": null,
   "id": "933f02d8",
   "metadata": {},
   "outputs": [],
   "source": []
  },
  {
   "cell_type": "code",
   "execution_count": 7,
   "id": "a8eebb8a",
   "metadata": {},
   "outputs": [],
   "source": []
  },
  {
   "cell_type": "code",
   "execution_count": 8,
   "id": "39e69419",
   "metadata": {},
   "outputs": [],
   "source": []
  }
 ],
 "metadata": {
  "celltoolbar": "幻灯片",
  "kernelspec": {
   "display_name": "Python 3",
   "language": "python",
   "name": "python3"
  },
  "language_info": {
   "codemirror_mode": {
    "name": "ipython",
    "version": 3
   },
   "file_extension": ".py",
   "mimetype": "text/x-python",
   "name": "python",
   "nbconvert_exporter": "python",
   "pygments_lexer": "ipython3",
   "version": "3.9.2"
  }
 },
 "nbformat": 4,
 "nbformat_minor": 5
}
